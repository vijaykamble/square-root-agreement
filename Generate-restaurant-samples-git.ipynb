{
 "cells": [
  {
   "cell_type": "code",
   "execution_count": 1,
   "metadata": {
    "collapsed": true
   },
   "outputs": [],
   "source": [
    "import ipyparallel\n",
    "import numpy\n",
    "import random\n",
    "import math\n",
    "from scipy.optimize import linprog\n",
    "import copy\n",
    "import matplotlib.pyplot as plt\n",
    "import matplotlib\n",
    "import statistics\n",
    "import csv\n",
    "import pylab\n",
    "import pickle"
   ]
  },
  {
   "cell_type": "code",
   "execution_count": 14,
   "metadata": {
    "collapsed": true
   },
   "outputs": [],
   "source": [
    "K = 5\n",
    "scale = 60\n",
    "samplesize = 10000\n",
    "ans = [0,30,60]\n",
    "ans_2 = [0,15,30,45,60]\n",
    "countself = 0\n",
    "countcate = 0\n",
    "countself_2 = 0\n",
    "countcate_2 = 0\n",
    "PXlist = []\n",
    "PYlist = []\n",
    "PYlist_2 = []\n",
    "pxylist = []\n",
    "pxylist_2 = []\n",
    "Qlist = []\n",
    "Qlist_2 = []\n",
    "mulist = []\n",
    "for i in range(samplesize):\n",
    "    PX=numpy.random.rand(1,K)[0]\n",
    "    PX /= PX.sum()\n",
    "    PX = PX.tolist()\n",
    "    #PX.sort(reverse=True)  #uncomment if you want to sample types in a more regular fashion (can also set False)\n",
    "    Q = numpy.random.rand(1,len(ans))[0]\n",
    "    Q /= Q.sum()\n",
    "    Q = Q.tolist()\n",
    "    Q_2 = numpy.random.rand(1,len(ans))[0]\n",
    "    Q_2 /= Q_2.sum()\n",
    "    Q_2 = Q_2.tolist()\n",
    "    Xvals=numpy.random.rand(1,K)[0]\n",
    "    Xvals = Xvals.tolist()\n",
    "    Xvals = [ent*scale for ent in Xvals]\n",
    "    Xvals.sort()\n",
    "    mulist.append(Xvals)\n",
    "    pxy = [[math.exp(-ans[j]/ent)-math.exp(-ans[j+1]/ent) for j in range(len(ans)-1)] + [math.exp(-ans[-1]/ent)] for ent in Xvals]\n",
    "    pxy = [[s/sum(ent) for s in ent]for ent in pxy]\n",
    "    pxy_2 = [[math.exp(-ans_2[j]/ent)-math.exp(-ans_2[j+1]/ent) for j in range(len(ans_2)-1)] + [math.exp(-ans_2[-1]/ent)] for ent in Xvals]\n",
    "    pxy_2 = [[s/sum(ent) for s in ent]for ent in pxy_2]\n",
    "    PY = [sum([PX[j]*pxy[j][ent] for j in range(K)]) for ent in range(len(ans))]\n",
    "    PY_2 = [sum([PX[j]*pxy_2[j][ent] for j in range(K)]) for ent in range(len(ans_2))]\n",
    "    PXlist.append(PX)\n",
    "    PYlist.append(PY)\n",
    "    PYlist_2.append(PY)\n",
    "    pxylist.append(pxy)\n",
    "    pxylist_2.append(pxy_2)\n",
    "    Qlist.append(Q)\n",
    "    Qlist_2.append(Q_2)\n",
    "    \n",
    "    #Now we check if self-prediction/categorical-responses conditions are satisfied for |Y|=3\n",
    "    flagself = 0\n",
    "    flagcate = 0\n",
    "    for j in range(len(ans)):\n",
    "        for jp in range(len(ans)):\n",
    "            if j != jp:\n",
    "                pj2 = sum([PX[s]*pxy[s][j]**2 for s in range(K)])\n",
    "                pjjp = sum([PX[s]*pxy[s][j]*pxy[s][jp] for s in range(K)])\n",
    "                if pj2/PY[j]**2 < pjjp/(PY[j]*PY[jp]):\n",
    "                    flagself = 1   #self-predicting responses condition violated\n",
    "                if pjjp > PY[j]*PY[jp]:\n",
    "                    flagcate = 1  #categorical responses condition violated\n",
    "    if flagself == 1:\n",
    "        countself +=1\n",
    "    if flagcate == 1:\n",
    "        countcate +=1\n",
    "    \n",
    "    #Now we check if self-prediction/categorical-responses conditions are satisfied for |Y|=5\n",
    "    flagself_2 = 0\n",
    "    flagcate_2 = 0\n",
    "    for j in range(len(ans_2)):\n",
    "        for jp in range(len(ans_2)):\n",
    "            if j != jp:\n",
    "                pj2 = sum([PX[s]*pxy_2[s][j]**2 for s in range(K)])\n",
    "                pjjp = sum([PX[s]*pxy_2[s][j]*pxy_2[s][jp] for s in range(K)])\n",
    "                if pj2/PY_2[j]**2 < pjjp/(PY_2[j]*PY_2[jp]):\n",
    "                    flagself_2 = 1   #self-predicting responses condition violated\n",
    "                if pjjp > PY_2[j]*PY_2[jp]:\n",
    "                    flagcate_2 = 1  #categorical responses condition violated\n",
    "    if flagself_2 == 1:\n",
    "        countself_2 +=1\n",
    "    if flagcate_2 == 1:\n",
    "        countcate_2 +=1\n",
    "        \n",
    "fileObject = open(\"PX-list-common\",'wb') \n",
    "pickle.dump(PXlist,fileObject) \n",
    "fileObject = open(\"pxy-list-3\",'wb') \n",
    "pickle.dump(pxylist,fileObject)\n",
    "fileObject = open(\"pxy-list-5\",'wb') \n",
    "pickle.dump(pxylist_2,fileObject)\n",
    "fileObject = open(\"PY-list-3\",'wb') \n",
    "pickle.dump(PYlist,fileObject) \n",
    "fileObject = open(\"PY-list-5\",'wb') \n",
    "pickle.dump(PYlist_2,fileObject) \n",
    "fileObject = open(\"Q-list-3\",'wb') \n",
    "pickle.dump(Qlist,fileObject) \n",
    "fileObject = open(\"Q-list-5\",'wb') \n",
    "pickle.dump(Qlist_2,fileObject) \n",
    "fileObject = open(\"mu-list-common\",'wb') \n",
    "pickle.dump(mulist,fileObject) \n"
   ]
  },
  {
   "cell_type": "code",
   "execution_count": 15,
   "metadata": {},
   "outputs": [
    {
     "name": "stdout",
     "output_type": "stream",
     "text": [
      "10000\n"
     ]
    }
   ],
   "source": [
    "print(countself_2)"
   ]
  },
  {
   "cell_type": "code",
   "execution_count": 16,
   "metadata": {},
   "outputs": [
    {
     "name": "stdout",
     "output_type": "stream",
     "text": [
      "9800\n"
     ]
    }
   ],
   "source": [
    "print(countself)"
   ]
  },
  {
   "cell_type": "code",
   "execution_count": null,
   "metadata": {
    "collapsed": true
   },
   "outputs": [],
   "source": []
  }
 ],
 "metadata": {
  "kernelspec": {
   "display_name": "Python 3",
   "language": "python",
   "name": "python3"
  },
  "language_info": {
   "codemirror_mode": {
    "name": "ipython",
    "version": 3
   },
   "file_extension": ".py",
   "mimetype": "text/x-python",
   "name": "python",
   "nbconvert_exporter": "python",
   "pygments_lexer": "ipython3",
   "version": "3.6.2"
  }
 },
 "nbformat": 4,
 "nbformat_minor": 2
}
